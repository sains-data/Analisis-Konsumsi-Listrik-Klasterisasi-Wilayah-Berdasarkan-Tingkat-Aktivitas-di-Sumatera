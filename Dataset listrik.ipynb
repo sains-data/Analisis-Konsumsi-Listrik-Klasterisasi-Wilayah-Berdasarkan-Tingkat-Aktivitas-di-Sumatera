{
 "cells": [
  {
   "cell_type": "code",
   "execution_count": 1,
   "id": "fa8e2da8",
   "metadata": {},
   "outputs": [
    {
     "name": "stdout",
     "output_type": "stream",
     "text": [
      "✅ Dataset berhasil dibuat dan disimpan sebagai 'data_listrik_raw.csv'\n"
     ]
    }
   ],
   "source": [
    "import pandas as pd\n",
    "import numpy as np\n",
    "import random\n",
    "from datetime import datetime, timedelta\n",
    "import os\n",
    "\n",
    "\n",
    "# ------------- Generate Synthetic Data -------------\n",
    "n_rows = 50000\n",
    "regions = ['Aceh', 'Tanjung Pinang', 'Jambi', 'Bengkulu', 'Pangkal Pinang', 'Medan', 'Padang', 'Pekanbaru', 'Palembang', 'Bandar Lampung']\n",
    "start_time = datetime(2025, 1, 1)\n",
    "\n",
    "\n",
    "timestamps = [start_time + timedelta(hours=i) for i in range(n_rows)]\n",
    "\n",
    "\n",
    "data = {\n",
    "    \"timestamp\": timestamps,\n",
    "    \"meter_id\": [f\"MTR{random.randint(1000,9999)}\" for _ in range(n_rows)],\n",
    "    \"region\": [random.choice(regions) for _ in range(n_rows)],\n",
    "    \"voltage\": np.round(np.random.normal(220, 5, n_rows), 2),\n",
    "    \"current\": np.round(np.random.uniform(0.5, 30.0, n_rows), 2),\n",
    "    \"power_consumption\": np.round(np.random.uniform(0.1, 5.0, n_rows), 2),\n",
    "    \"power_factor\": np.round(np.random.uniform(0.7, 1.0, n_rows), 2),\n",
    "    \"outage_flag\": [random.choice([True, False]) for _ in range(n_rows)],\n",
    "    \"temperature\": np.round(np.random.uniform(24, 35, n_rows), 1),\n",
    "    \"humidity\": np.round(np.random.uniform(60, 95, n_rows), 1),\n",
    "    \"rainfall\": np.round(np.random.exponential(1.5, n_rows), 2),\n",
    "    \"weather_condition\": [random.choice([\"Cerah\", \"Berawan\", \"Hujan ringan\", \"Hujan deras\"]) for _ in range(n_rows)],\n",
    "    \"wind_speed\": np.round(np.random.uniform(2, 20, n_rows), 2),\n",
    "    \"population_density\": np.round(np.random.uniform(100, 5000, n_rows), 1),\n",
    "    \"urbanization_level\": [random.choice([\"Perkotaan\", \"Pedesaan\"]) for _ in range(n_rows)],\n",
    "    \"average_income\": np.round(np.random.normal(4000000, 1000000, n_rows), 0),\n",
    "    \"economic_activity\": [random.choice([\"Industri\", \"Pertanian\", \"Jasa\"]) for _ in range(n_rows)],\n",
    "    \"household_size\": np.round(np.random.uniform(2, 6, n_rows), 1),\n",
    "}\n",
    "\n",
    "\n",
    "df_bronze = pd.DataFrame(data)\n",
    "\n",
    "\n",
    "# ------------- Save to Bronze Layer (CSV) -------------\n",
    "os.makedirs(\"bronze\", exist_ok=True)\n",
    "df_bronze.to_csv(\"bronze/data_listrik_raw.csv\", index=False)\n",
    "print(\"✅ Dataset berhasil dibuat dan disimpan sebagai 'data_listrik_raw.csv'\")\n"
   ]
  },
  {
   "cell_type": "code",
   "execution_count": 2,
   "id": "87b3d8a3",
   "metadata": {},
   "outputs": [],
   "source": [
    "# Load dari Bronze\n",
    "df = pd.read_csv(\"bronze/data_listrik_raw.csv\", parse_dates=[\"timestamp\"])\n",
    "\n",
    "\n",
    "# Cleaning contoh:\n",
    "df_cleaned = df.copy()\n",
    "df_cleaned[\"voltage\"] = df_cleaned[\"voltage\"].clip(lower=180, upper=240)\n",
    "df_cleaned[\"power_factor\"] = df_cleaned[\"power_factor\"].clip(0.0, 1.0)\n",
    "\n",
    "\n",
    "# Drop baris yang hilang kritikal (optional)\n",
    "df_cleaned.dropna(subset=[\"power_consumption\", \"region\", \"timestamp\"], inplace=True)\n",
    "\n",
    "\n",
    "# Save ke Silver Layer (Parquet)\n",
    "os.makedirs(\"silver\", exist_ok=True)\n",
    "df_cleaned.to_parquet(\"silver/data_listrik_cleaned.parquet\", index=False)\n"
   ]
  },
  {
   "cell_type": "code",
   "execution_count": 3,
   "id": "2a22e522",
   "metadata": {},
   "outputs": [],
   "source": [
    "# Load dari Silver\n",
    "df_silver = pd.read_parquet(\"silver/data_listrik_cleaned.parquet\")\n",
    "\n",
    "\n",
    "# Buat kolom hari atau bulan untuk agregasi\n",
    "df_silver[\"date\"] = df_silver[\"timestamp\"].dt.date\n",
    "df_silver[\"month\"] = df_silver[\"timestamp\"].dt.to_period(\"M\").astype(str)\n",
    "\n",
    "\n",
    "# Agregasi konsumsi listrik rata-rata dan total per wilayah per bulan\n",
    "df_gold = df_silver.groupby([\"region\", \"month\"]).agg({\n",
    "    \"power_consumption\": [\"sum\", \"mean\"],\n",
    "    \"temperature\": \"mean\",\n",
    "    \"rainfall\": \"sum\",\n",
    "    \"outage_flag\": \"sum\"\n",
    "}).reset_index()\n",
    "\n",
    "\n",
    "# Rename kolom multiindex\n",
    "df_gold.columns = [\"region\", \"month\", \"total_kwh\", \"avg_kwh\", \"avg_temp\", \"total_rain\", \"total_outages\"]\n",
    "\n",
    "\n",
    "# Save ke Gold Layer\n",
    "os.makedirs(\"gold\", exist_ok=True)\n",
    "df_gold.to_parquet(\"gold/konsumsi_listrik_aggregated.parquet\", index=False)\n"
   ]
  }
 ],
 "metadata": {
  "kernelspec": {
   "display_name": "Python 3",
   "language": "python",
   "name": "python3"
  },
  "language_info": {
   "codemirror_mode": {
    "name": "ipython",
    "version": 3
   },
   "file_extension": ".py",
   "mimetype": "text/x-python",
   "name": "python",
   "nbconvert_exporter": "python",
   "pygments_lexer": "ipython3",
   "version": "3.11.4"
  }
 },
 "nbformat": 4,
 "nbformat_minor": 5
}
